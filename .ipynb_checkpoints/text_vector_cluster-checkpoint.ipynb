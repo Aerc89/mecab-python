{
 "cells": [
  {
   "cell_type": "code",
   "execution_count": 1,
   "metadata": {},
   "outputs": [],
   "source": [
    "import numpy as np\n",
    "from sklearn.feature_extraction.text import TfidfVectorizer"
   ]
  },
  {
   "cell_type": "code",
   "execution_count": 7,
   "metadata": {},
   "outputs": [
    {
     "name": "stdout",
     "output_type": "stream",
     "text": [
      "[[0.53 0.   0.53 0.   0.66]\n",
      " [0.   0.   0.63 0.   0.78]\n",
      " [0.54 0.   0.   0.84 0.  ]\n",
      " [0.47 0.74 0.47 0.   0.  ]]\n"
     ]
    }
   ],
   "source": [
    "np.set_printoptions(precision=2)\n",
    " \n",
    "docs = np.array([\n",
    "        'バナナ リンゴ みかん',      # 文書１\n",
    "        'バナナ リンゴ',      # 文書２\n",
    "        'モモ みかん',   # 文書３\n",
    "        'みかん バナナ ナシ'            # 文書４\n",
    "        ])\n",
    "\n",
    "# vectorizer = TfidfVectorizer(use_idf=True, token_pattern=u'(?u)\\\\b\\\\w+\\\\b')\n",
    "vectorizer = TfidfVectorizer(use_idf=True)\n",
    "vecs = vectorizer.fit_transform(docs)\n",
    "print(vecs.toarray())\n",
    "\n",
    "# 行方向に文書、列方向に単語が並んでいます。\n",
    "# 単語と列の対応は下記で確認できます。\n",
    "# 上記サンプルで、token_pattern=u'(?u)\\\\b\\\\w+\\\\b’ を指定しました。これは、文字列長が 1 の単語を処理対象に含めることを意味します。\n",
    "# この指定をはずすと、長さ一文字の単語がまったくカウントされなくなります。"
   ]
  },
  {
   "cell_type": "code",
   "execution_count": 8,
   "metadata": {},
   "outputs": [
    {
     "name": "stdout",
     "output_type": "stream",
     "text": [
      "みかん 0\n",
      "ナシ 1\n",
      "バナナ 2\n",
      "モモ 3\n",
      "リンゴ 4\n"
     ]
    }
   ],
   "source": [
    "for k,v in sorted(vectorizer.vocabulary_.items(), key=lambda x:x[1]):\n",
    "    print(k,v)"
   ]
  },
  {
   "cell_type": "code",
   "execution_count": null,
   "metadata": {},
   "outputs": [],
   "source": [
    "import numpy as np\n",
    "from sklearn.feature_extraction.text import TfidfVectorizer\n",
    "from sklearn.cluster import KMeans\n",
    " \n",
    "docs = np.array([\n",
    "        '牛乳 を 買う',\n",
    "        'パン を 買う',\n",
    "        'パン を 食べる',\n",
    "        'お菓子 を 食べる',\n",
    "        '本 を 買う',\n",
    "        'パン と お菓子 を 食べる',\n",
    "        'お菓子 を 買う',\n",
    "        'パン と パン を 食べる'\n",
    "        ])"
   ]
  }
 ],
 "metadata": {
  "kernelspec": {
   "display_name": "Python 3",
   "language": "python",
   "name": "python3"
  },
  "language_info": {
   "codemirror_mode": {
    "name": "ipython",
    "version": 3
   },
   "file_extension": ".py",
   "mimetype": "text/x-python",
   "name": "python",
   "nbconvert_exporter": "python",
   "pygments_lexer": "ipython3",
   "version": "3.6.4"
  }
 },
 "nbformat": 4,
 "nbformat_minor": 2
}
