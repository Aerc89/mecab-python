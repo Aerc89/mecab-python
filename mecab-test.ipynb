{
 "cells": [
  {
   "cell_type": "code",
   "execution_count": 6,
   "metadata": {},
   "outputs": [],
   "source": [
    "import MeCab"
   ]
  },
  {
   "cell_type": "code",
   "execution_count": 2,
   "metadata": {},
   "outputs": [
    {
     "name": "stdout",
     "output_type": "stream",
     "text": [
      "Mecab で 文章 を 区切っ て みる よ \n",
      "\n"
     ]
    }
   ],
   "source": [
    "mecab = MeCab.Tagger('-Owakati')\n",
    "\n",
    "sampleText = mecab.parse(\"Mecabで文章を区切ってみるよ\")\n",
    "\n",
    "print(sampleText)"
   ]
  },
  {
   "cell_type": "code",
   "execution_count": 5,
   "metadata": {},
   "outputs": [
    {
     "name": "stdout",
     "output_type": "stream",
     "text": [
      "Mecab\t名詞,一般,*,*,*,*,*\n",
      "で\t助詞,格助詞,一般,*,*,*,で,デ,デ\n",
      "文章\t名詞,一般,*,*,*,*,文章,ブンショウ,ブンショー\n",
      "を\t助詞,格助詞,一般,*,*,*,を,ヲ,ヲ\n",
      "区切っ\t動詞,自立,*,*,五段・ラ行,連用タ接続,区切る,クギッ,クギッ\n",
      "て\t助詞,接続助詞,*,*,*,*,て,テ,テ\n",
      "みる\t動詞,非自立,*,*,一段,基本形,みる,ミル,ミル\n",
      "よ\t助詞,終助詞,*,*,*,*,よ,ヨ,ヨ\n",
      "~~\t名詞,サ変接続,*,*,*,*,*\n",
      "oh\t名詞,一般,*,*,*,*,*\n",
      "yea\t名詞,固有名詞,組織,*,*,*,*\n",
      "EOS\n",
      "\n"
     ]
    }
   ],
   "source": [
    "mecab2 = MeCab.Tagger()\n",
    "\n",
    "sampleText2 = mecab2.parse(\"Mecabで文章を区切ってみるよ~~oh yea\")\n",
    "\n",
    "print(sampleText2)"
   ]
  },
  {
   "cell_type": "code",
   "execution_count": null,
   "metadata": {},
   "outputs": [],
   "source": []
  }
 ],
 "metadata": {
  "kernelspec": {
   "display_name": "Python 3",
   "language": "python",
   "name": "python3"
  },
  "language_info": {
   "codemirror_mode": {
    "name": "ipython",
    "version": 3
   },
   "file_extension": ".py",
   "mimetype": "text/x-python",
   "name": "python",
   "nbconvert_exporter": "python",
   "pygments_lexer": "ipython3",
   "version": "3.7.0"
  }
 },
 "nbformat": 4,
 "nbformat_minor": 2
}
